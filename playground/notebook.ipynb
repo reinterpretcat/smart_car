{
 "cells": [
  {
   "cell_type": "code",
   "execution_count": 2,
   "metadata": {},
   "outputs": [],
   "source": [
    "import RPi.GPIO as GPIO\n",
    "import smbus\n",
    "\n",
    "import time\n",
    "import math\n",
    "\n",
    "# Broadcom chip-specific pin numbers. These pin numbers follow the lower-level\n",
    "# numbering system defined by the Raspberry Pi's Broadcom-chip brain.\n",
    "GPIO.setmode(GPIO.BCM)\n",
    "\n",
    "GPIO.setwarnings(False)"
   ]
  },
  {
   "cell_type": "markdown",
   "metadata": {},
   "source": [
    "## Common: abstractions\n",
    "\n",
    "Abstract common functionality in the little helper classes to avoid code duplication."
   ]
  },
  {
   "cell_type": "markdown",
   "metadata": {},
   "source": [
    "### Raspi PCA9685 16-Channel PWM Servo Driver"
   ]
  },
  {
   "cell_type": "code",
   "execution_count": 3,
   "metadata": {},
   "outputs": [],
   "source": [
    "class PCA9685:\n",
    "    # Registers/etc.\n",
    "    __MODE1 = 0x00\n",
    "    __PRESCALE = 0xFE\n",
    "    __LED0_ON_L = 0x06\n",
    "    __LED0_ON_H = 0x07\n",
    "    __LED0_OFF_L = 0x08\n",
    "    __LED0_OFF_H = 0x09\n",
    "\n",
    "    def __init__(self, address=0x40, debug=False):\n",
    "        \"\"\"Raspi PCA9685 16-Channel PWM Servo Driver\"\"\"\n",
    "        self.bus = smbus.SMBus(1)\n",
    "        self.address = address\n",
    "        self.debug = debug\n",
    "        self.write(self.__MODE1, 0x00)\n",
    "\n",
    "    def write(self, reg, value):\n",
    "        \"Writes an 8-bit value to the specified register/address\"\n",
    "        self.bus.write_byte_data(self.address, reg, value)\n",
    "\n",
    "    def read(self, reg):\n",
    "        \"Read an unsigned byte from the I2C device\"\n",
    "        result = self.bus.read_byte_data(self.address, reg)\n",
    "        return result\n",
    "\n",
    "    def set_pwm_freq(self, freq):\n",
    "        \"Sets the PWM frequency\"\n",
    "        prescaleval = 25000000.0    # 25MHz\n",
    "        prescaleval /= 4096.0       # 12-bit\n",
    "        prescaleval /= float(freq)\n",
    "        prescaleval -= 1.0\n",
    "        prescale = math.floor(prescaleval + 0.5)\n",
    "\n",
    "        old_mode = self.read(self.__MODE1)\n",
    "        new_mode = (old_mode & 0x7F) | 0x10        # sleep\n",
    "        self.write(self.__MODE1, new_mode)        # go to sleep\n",
    "        self.write(self.__PRESCALE, int(math.floor(prescale)))\n",
    "        self.write(self.__MODE1, old_mode)\n",
    "        time.sleep(0.005)\n",
    "        self.write(self.__MODE1, old_mode | 0x80)\n",
    "\n",
    "    def set_pwm(self, channel, on, off):\n",
    "        \"Sets a single PWM channel\"\n",
    "        self.write(self.__LED0_ON_L + 4 * channel, on & 0xFF)\n",
    "        self.write(self.__LED0_ON_H + 4 * channel, on >> 8)\n",
    "        self.write(self.__LED0_OFF_L + 4 * channel, off & 0xFF)\n",
    "        self.write(self.__LED0_OFF_H + 4 * channel, off >> 8)\n",
    "\n",
    "    def set_motor_pwm(self, channel, duty):\n",
    "        self.set_pwm(channel, 0, duty)\n",
    "\n",
    "    def set_servo_pulse(self, channel, pulse):\n",
    "        \"Sets the Servo Pulse,The PWM frequency must be 50HZ\"\n",
    "        pulse = pulse * 4096 / 20000  # PWM frequency is 50HZ, the period is 20000us\n",
    "        self.set_pwm(channel, 0, int(pulse))"
   ]
  },
  {
   "cell_type": "markdown",
   "metadata": {},
   "source": [
    "## Buzzer: make a noise"
   ]
  },
  {
   "cell_type": "code",
   "execution_count": 16,
   "metadata": {},
   "outputs": [],
   "source": [
    "BUZZER_PIN = 17\n",
    "\n",
    "GPIO.setup(BUZZER_PIN, GPIO.OUT)\n",
    "GPIO.output(BUZZER_PIN, True)\n",
    "time.sleep(0.25)\n",
    "GPIO.output(BUZZER_PIN, False)"
   ]
  },
  {
   "cell_type": "markdown",
   "metadata": {},
   "source": [
    "## Ultrasonic: get distance to obstacle"
   ]
  },
  {
   "cell_type": "code",
   "execution_count": 87,
   "metadata": {},
   "outputs": [
    {
     "name": "stdout",
     "output_type": "stream",
     "text": [
      "distance_cm=[0.0, 0.0, 12.260675430297852, 12.268781661987305, 12.293100357055664]\n"
     ]
    },
    {
     "data": {
      "text/plain": [
       "12"
      ]
     },
     "execution_count": 87,
     "metadata": {},
     "output_type": "execute_result"
    }
   ],
   "source": [
    "TRIGGER_PIN = 27\n",
    "ECHO_PIN = 22\n",
    "MAX_DISTANCE = 300 # maximum measuring distance, unit cm\n",
    "TIME_OUT = MAX_DISTANCE * 60\n",
    "SOUND_SPEED = 340.0 # m/s\n",
    "\n",
    "GPIO.setup(TRIGGER_PIN, GPIO.OUT)\n",
    "GPIO.setup(ECHO_PIN, GPIO.IN)\n",
    "\n",
    "def pulse_in(pin, level, time_out):\n",
    "    \"\"\" Obtains pulse time of a pin under TIME_OUT \"\"\"\n",
    "    t0 = time.time()\n",
    "    while(GPIO.input(pin) != level):\n",
    "        if((time.time() - t0) > time_out * 0.000001):\n",
    "            return 0\n",
    "    t0 = time.time()\n",
    "    while(GPIO.input(pin) == level):\n",
    "        if((time.time() - t0) > time_out * 0.000001):\n",
    "            return 0\n",
    "    return (time.time() - t0) * 1000000\n",
    "\n",
    "def get_distance():\n",
    "    \"\"\" Gets the measurement results of ultrasonic module,with unit: cm \"\"\"\n",
    "    ATTEMPTS = 5\n",
    "    distance_cm = [0] * ATTEMPTS\n",
    "    for i in range(ATTEMPTS):\n",
    "        # make trigger_pin output 10us HIGH level\n",
    "        GPIO.output(TRIGGER_PIN, GPIO.HIGH)\n",
    "        time.sleep(0.00001) # 10us\n",
    "        # make trigger_pin output LOW level\n",
    "        GPIO.output(TRIGGER_PIN, GPIO.LOW)\n",
    "        # read plus time of echo_pin\n",
    "        pingTime = pulse_in(ECHO_PIN, GPIO.HIGH, TIME_OUT)\n",
    "        # calculate distance with sound speed\n",
    "        distance_cm[i] = pingTime * SOUND_SPEED / 2.0 / 10000.0\n",
    "    distance_cm = sorted(distance_cm)\n",
    "\n",
    "    print(f\"{distance_cm=}\")\n",
    "    \n",
    "    return int(distance_cm[2])\n",
    "\n",
    "get_distance()"
   ]
  },
  {
   "cell_type": "markdown",
   "metadata": {},
   "source": [
    "## Camera Servo"
   ]
  },
  {
   "cell_type": "code",
   "execution_count": 13,
   "metadata": {},
   "outputs": [],
   "source": [
    "class DIRECTION:\n",
    "    HORIZONTAL = 0,\n",
    "    VERTICAL = 1\n",
    "\n",
    "\n",
    "def move_servo_pwm(pwm_servo, direction: DIRECTION, angle, error=10):\n",
    "    angle = int(angle)\n",
    "    value = int((angle + error) / 0.09)\n",
    "\n",
    "    if direction == DIRECTION.HORIZONTAL:\n",
    "        pwm_servo.set_servo_pulse(8, 2500 - value)\n",
    "    else:\n",
    "        pwm_servo.set_servo_pulse(9, 500 + value)\n",
    "\n",
    "def reset(pwm_servo):\n",
    "    \"\"\" Resets to initial position \"\"\"\n",
    "    pwm_servo.set_pwm_freq(50)\n",
    "    pwm_servo.set_servo_pulse(8, 1500)\n",
    "    pwm_servo.set_servo_pulse(9, 1500)\n",
    "\n",
    "pwm_servo = PCA9685()\n",
    "\n",
    "reset(pwm_servo)\n",
    "\n",
    "time.sleep(0.5)\n",
    "\n",
    "# move horizontally for given angle\n",
    "move_servo_pwm(pwm_servo, direction=DIRECTION.HORIZONTAL, angle=100)\n",
    "\n",
    "time.sleep(1)\n",
    "\n",
    "# move vertically for given angle\n",
    "move_servo_pwm(pwm_servo, direction=DIRECTION.VERTICAL, angle=100)\n",
    "\n",
    "time.sleep(1)\n",
    "\n",
    "reset(pwm_servo)"
   ]
  },
  {
   "cell_type": "markdown",
   "metadata": {},
   "source": [
    "## Motor: wheels"
   ]
  },
  {
   "cell_type": "code",
   "execution_count": 12,
   "metadata": {},
   "outputs": [],
   "source": [
    "import time\n",
    "\n",
    "def clamp(n, minn, maxn):\n",
    "    return max(min(maxn, n), minn)\n",
    "\n",
    "class Wheels:\n",
    "    \"\"\" Provides api to control 4 vehicle wheels. \"\"\"\n",
    "    def __init__(self, pwm):\n",
    "        self.pwm = pwm\n",
    "        self.pwm.set_pwm_freq(50)\n",
    "\n",
    "    def duty_range(self, duty1, duty2, duty3, duty4):\n",
    "        duty1 = clamp(duty1, -4095, 4095)\n",
    "        duty2 = clamp(duty2, -4095, 4095)\n",
    "        duty3 = clamp(duty3, -4095, 4095)\n",
    "        duty4 = clamp(duty4, -4095, 4095)\n",
    "\n",
    "        return duty1, duty2, duty3, duty4\n",
    "\n",
    "    def left_upper_wheel(self, duty):\n",
    "        if duty > 0:\n",
    "            self.pwm.set_motor_pwm(0, 0)\n",
    "            self.pwm.set_motor_pwm(1, duty)\n",
    "        elif duty < 0:\n",
    "            self.pwm.set_motor_pwm(1, 0)\n",
    "            self.pwm.set_motor_pwm(0, abs(duty))\n",
    "        else:\n",
    "            self.pwm.set_motor_pwm(0, 4095)\n",
    "            self.pwm.set_motor_pwm(1, 4095)\n",
    "\n",
    "    def left_lower_wheel(self, duty):\n",
    "        if duty > 0:\n",
    "            self.pwm.set_motor_pwm(3, 0)\n",
    "            self.pwm.set_motor_pwm(2, duty)\n",
    "        elif duty < 0:\n",
    "            self.pwm.set_motor_pwm(2, 0)\n",
    "            self.pwm.set_motor_pwm(3, abs(duty))\n",
    "        else:\n",
    "            self.pwm.set_motor_pwm(2, 4095)\n",
    "            self.pwm.set_motor_pwm(3, 4095)\n",
    "\n",
    "    def right_upper_wheel(self, duty):\n",
    "        if duty > 0:\n",
    "            self.pwm.set_motor_pwm(6, 0)\n",
    "            self.pwm.set_motor_pwm(7, duty)\n",
    "        elif duty < 0:\n",
    "            self.pwm.set_motor_pwm(7, 0)\n",
    "            self.pwm.set_motor_pwm(6, abs(duty))\n",
    "        else:\n",
    "            self.pwm.set_motor_pwm(6, 4095)\n",
    "            self.pwm.set_motor_pwm(7, 4095)\n",
    "\n",
    "    def right_lower_wheel(self, duty):\n",
    "        if duty > 0:\n",
    "            self.pwm.set_motor_pwm(4, 0)\n",
    "            self.pwm.set_motor_pwm(5, duty)\n",
    "        elif duty < 0:\n",
    "            self.pwm.set_motor_pwm(5, 0)\n",
    "            self.pwm.set_motor_pwm(4, abs(duty))\n",
    "        else:\n",
    "            self.pwm.set_motor_pwm(4, 4095)\n",
    "            self.pwm.set_motor_pwm(5, 4095)\n",
    "\n",
    "    def set_motor_model(self, duty1, duty2, duty3, duty4):\n",
    "        duty1, duty2, duty3, duty4 = self.duty_range(duty1, duty2, duty3, duty4)\n",
    "        self.left_upper_wheel(duty1)\n",
    "        self.left_lower_wheel(duty2)\n",
    "        self.right_upper_wheel(duty3)\n",
    "        self.right_lower_wheel(duty4)\n",
    "\n",
    "wheels = Wheels(pwm=PCA9685())\n",
    "\n",
    "wheels.left_upper_wheel(1000)\n",
    "time.sleep(2)\n",
    "\n",
    "wheels.right_lower_wheel(-1000)\n",
    "time.sleep(2)\n",
    "\n",
    "wheels.set_motor_model(0, 0, 0, 0)"
   ]
  },
  {
   "cell_type": "markdown",
   "metadata": {},
   "source": [
    "## Power"
   ]
  },
  {
   "cell_type": "code",
   "execution_count": 31,
   "metadata": {},
   "outputs": [
    {
     "name": "stdout",
     "output_type": "stream",
     "text": [
      "index='ADS7830'\n",
      "adc_power=7.74V\n"
     ]
    }
   ],
   "source": [
    "ADDRESS = 0x48     # I2C address of the device\n",
    "ADS7830_CMD = 0x84 # ADS7830 Command, Single-Ended Inputs\n",
    "\n",
    "def recvADS7830(bus, channel):\n",
    "    \"\"\"Select the Command data from the given provided value above\"\"\"\n",
    "    COMMAND_SET = ADS7830_CMD | ((((channel << 2) | (channel >> 1)) & 0x07) << 4)\n",
    "    bus.write_byte(ADDRESS, COMMAND_SET)\n",
    "    while True:\n",
    "        value1 = bus.read_byte(ADDRESS)\n",
    "        value2 = bus.read_byte(ADDRESS)\n",
    "        if value1 == value2:\n",
    "            break\n",
    "    voltage = value1 / 255.0 * 3.3  # calculate the voltage value\n",
    "    voltage = round(voltage, 2)\n",
    "    return voltage\n",
    "\n",
    "bus = smbus.SMBus(1) # get I2C bus\n",
    "\n",
    "for _ in range(3):\n",
    "    aa = bus.read_byte_data(ADDRESS, 0xf4)\n",
    "    index = \"PCF8591\" if aa < 150 else \"ADS7830\"\n",
    "\n",
    "print(f\"{index=}\")\n",
    "\n",
    "if index == \"ADS7830\":\n",
    "    value = recvADS7830(bus, channel = 2)\n",
    "    adc_power = value * 3\n",
    "    adc_power = round(adc_power, 2)\n",
    "    print(f\"{adc_power=}V\")\n",
    "\n",
    "\n",
    "bus.close()"
   ]
  }
 ],
 "metadata": {
  "kernelspec": {
   "display_name": "Python 3",
   "language": "python",
   "name": "python3"
  },
  "language_info": {
   "codemirror_mode": {
    "name": "ipython",
    "version": 3
   },
   "file_extension": ".py",
   "mimetype": "text/x-python",
   "name": "python",
   "nbconvert_exporter": "python",
   "pygments_lexer": "ipython3",
   "version": "3.9.2"
  },
  "orig_nbformat": 4
 },
 "nbformat": 4,
 "nbformat_minor": 2
}
